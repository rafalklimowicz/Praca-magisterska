{
  "nbformat": 4,
  "nbformat_minor": 0,
  "metadata": {
    "colab": {
      "name": "Generate_Features.ipynb",
      "provenance": [],
      "collapsed_sections": [
        "0XfaIegLC5hO",
        "rb0Sb_WWC9Gq",
        "NaYZpn7JjSGZ",
        "OT5uL_3QtBQJ"
      ]
    },
    "kernelspec": {
      "name": "python3",
      "display_name": "Python 3"
    },
    "language_info": {
      "name": "python"
    },
    "accelerator": "GPU"
  },
  "cells": [
    {
      "cell_type": "markdown",
      "source": [
        "# Inicjalizacja"
      ],
      "metadata": {
        "id": "0XfaIegLC5hO"
      }
    },
    {
      "cell_type": "markdown",
      "source": [
        "## Inicjalizacja zmiennych"
      ],
      "metadata": {
        "id": "m_ft6RNkC8k0"
      }
    },
    {
      "cell_type": "code",
      "source": [
        "tfrecord_path_train_mal = 'drive/My Drive/Data/im_mal_dataset_train.tfrecords'\n",
        "tfrecord_path_test_mal = 'drive/My Drive/Data/im_mal_dataset_test.tfrecords'\n",
        "\n",
        "tfrecord_path_train_ben = 'drive/My Drive/Data/im_ben_dataset_train.tfrecords'\n",
        "tfrecord_path_test_ben = 'drive/My Drive/Data/im_ben_dataset_test.tfrecords'\n",
        "\n",
        "model_mal_8_path = 'drive/My Drive/Data/model_mal_8.h5'\n",
        "model_mal_16_path = 'drive/My Drive/Data/model_mal_16.h5'\n",
        "model_mal_32_path = 'drive/My Drive/Data/model_mal_32.h5'\n",
        "\n",
        "model_ben_8_path = 'drive/My Drive/Data/model_ben_8.h5'\n",
        "model_ben_16_path = 'drive/My Drive/Data/model_ben_16.h5'\n",
        "model_ben_32_path = 'drive/My Drive/Data/model_ben_32.h5'\n",
        "\n",
        "pickle_path_features_train_mal_8_mal = 'drive/My Drive/Data/features_train_mal_8_mal.pickle'\n",
        "pickle_path_features_train_mal_16_mal = 'drive/My Drive/Data/features_train_mal_16_mal.pickle'\n",
        "pickle_path_features_train_mal_32_mal = 'drive/My Drive/Data/features_train_mal_32_mal.pickle'\n",
        "pickle_path_features_test_mal_8_mal = 'drive/My Drive/Data/features_test_mal_8_mal.pickle'\n",
        "pickle_path_features_test_mal_16_mal = 'drive/My Drive/Data/features_test_mal_16_mal.pickle'\n",
        "pickle_path_features_test_mal_32_mal = 'drive/My Drive/Data/features_test_mal_32_mal.pickle'\n",
        "\n",
        "pickle_path_features_train_mal_8_ben = 'drive/My Drive/Data/features_train_mal_8_ben.pickle'\n",
        "pickle_path_features_train_mal_16_ben = 'drive/My Drive/Data/features_train_mal_16_ben.pickle'\n",
        "pickle_path_features_train_mal_32_ben = 'drive/My Drive/Data/features_train_mal_32_ben.pickle'\n",
        "pickle_path_features_test_mal_8_ben = 'drive/My Drive/Data/features_test_mal_8_ben.pickle'\n",
        "pickle_path_features_test_mal_16_ben = 'drive/My Drive/Data/features_test_mal_16_ben.pickle'\n",
        "pickle_path_features_test_mal_32_ben = 'drive/My Drive/Data/features_test_mal_32_ben.pickle'\n",
        "\n",
        "pickle_path_features_train_ben_8_mal = 'drive/My Drive/Data/features_train_ben_8_mal.pickle'\n",
        "pickle_path_features_train_ben_16_mal = 'drive/My Drive/Data/features_train_ben_16_mal.pickle'\n",
        "pickle_path_features_train_ben_32_mal = 'drive/My Drive/Data/features_train_ben_32_mal.pickle'\n",
        "pickle_path_features_test_ben_8_mal = 'drive/My Drive/Data/features_test_ben_8_mal.pickle'\n",
        "pickle_path_features_test_ben_16_mal = 'drive/My Drive/Data/features_test_ben_16_mal.pickle'\n",
        "pickle_path_features_test_ben_32_mal = 'drive/My Drive/Data/features_test_ben_32_mal.pickle'\n",
        "\n",
        "pickle_path_features_train_ben_8_ben = 'drive/My Drive/Data/features_train_ben_8_ben.pickle'\n",
        "pickle_path_features_train_ben_16_ben = 'drive/My Drive/Data/features_train_ben_16_ben.pickle'\n",
        "pickle_path_features_train_ben_32_ben = 'drive/My Drive/Data/features_train_ben_32_ben.pickle'\n",
        "pickle_path_features_test_ben_8_ben = 'drive/My Drive/Data/features_test_ben_8_ben.pickle'\n",
        "pickle_path_features_test_ben_16_ben = 'drive/My Drive/Data/features_test_ben_16_ben.pickle'\n",
        "pickle_path_features_test_ben_32_ben = 'drive/My Drive/Data/features_test_ben_32_ben.pickle'\n",
        "\n",
        "generate_features_mal = True\n",
        "generate_features_ben = True\n",
        "\n",
        "batch_size = 10\n",
        "patch_size = 256\n",
        "num_channels_input = 3\n",
        "num_channels_target = 3"
      ],
      "metadata": {
        "id": "MoHN8kIkDIX9"
      },
      "execution_count": null,
      "outputs": []
    },
    {
      "cell_type": "markdown",
      "source": [
        "## Inicjalizacja bibliotek"
      ],
      "metadata": {
        "id": "ylcDInlZC8zh"
      }
    },
    {
      "cell_type": "code",
      "source": [
        "from google.colab import drive\n",
        "import tensorflow as tf\n",
        "import keras\n",
        "import numpy as np\n",
        "from keras import layers\n",
        "import pickle\n",
        "drive.mount('/content/drive')"
      ],
      "metadata": {
        "colab": {
          "base_uri": "https://localhost:8080/"
        },
        "id": "sMqOxjvADIsn",
        "outputId": "cdb05ae2-664d-44cf-987a-3f250a5e5544"
      },
      "execution_count": null,
      "outputs": [
        {
          "output_type": "stream",
          "name": "stdout",
          "text": [
            "Mounted at /content/drive\n"
          ]
        }
      ]
    },
    {
      "cell_type": "markdown",
      "source": [
        "## Funkcje"
      ],
      "metadata": {
        "id": "rb0Sb_WWC9Gq"
      }
    },
    {
      "cell_type": "code",
      "source": [
        "def parse_example_function(example_proto, image_feature_description):\n",
        "  # Parse the input tf.Example proto using the dictionary above.\n",
        "  return tf.io.parse_single_example(example_proto, image_feature_description)\n",
        "\n",
        "def img_img_parse_feature_function(img_features, patch_size, num_channels_input, num_channels_target):\n",
        "    input_tensor = tf.io.parse_tensor(img_features['input_image_raw'], out_type=tf.float32)\n",
        "    target_tensor = tf.io.parse_tensor(img_features['target_image_raw'], out_type=tf.float32)   \n",
        "    input_tensor.set_shape([patch_size, patch_size, num_channels_input])\n",
        "    target_tensor.set_shape([patch_size, patch_size, num_channels_target])\n",
        "    return input_tensor, target_tensor\n",
        "\n",
        "def tfrecord_2_img_img_dataset(tfrecord_path, batch_size, patch_size, num_channels_input=3, num_channels_target=1, num_prefatch=1, num_repeats=1):\n",
        "    \n",
        "    image_feature_description = {\n",
        "        'input_image_raw': tf.io.FixedLenFeature([], tf.string),\n",
        "        'target_image_raw': tf.io.FixedLenFeature([], tf.string)\n",
        "    }\n",
        "    \n",
        "    _parse_example = lambda example: parse_example_function(example, image_feature_description)\n",
        "    _parse_feature = lambda feature: img_img_parse_feature_function(feature, patch_size, num_channels_input, num_channels_target)\n",
        "\n",
        "    dataset = tf.data.TFRecordDataset(tfrecord_path)\n",
        "    dataset = dataset.map(_parse_example)\n",
        "    dataset = dataset.map(_parse_feature)\n",
        "    dataset = dataset.batch(batch_size)\n",
        "    dataset = dataset.prefetch(num_prefatch)\n",
        "    dataset = dataset.repeat(num_repeats)\n",
        "    return dataset"
      ],
      "metadata": {
        "id": "faQfW4a5DJJo"
      },
      "execution_count": null,
      "outputs": []
    },
    {
      "cell_type": "markdown",
      "source": [
        "# Ładowanie danych"
      ],
      "metadata": {
        "id": "NaYZpn7JjSGZ"
      }
    },
    {
      "cell_type": "markdown",
      "source": [
        "## Ładowanie modeli"
      ],
      "metadata": {
        "id": "EUkbGqdljU7x"
      }
    },
    {
      "cell_type": "code",
      "source": [
        "autoencoder_model_mal_8 = keras.models.load_model(model_mal_8_path)\n",
        "autoencoder_model_mal_16 = keras.models.load_model(model_mal_16_path)\n",
        "autoencoder_model_mal_32 = keras.models.load_model(model_mal_32_path)\n",
        "autoencoder_model_ben_8 = keras.models.load_model(model_ben_8_path)\n",
        "autoencoder_model_ben_16 = keras.models.load_model(model_ben_16_path)\n",
        "autoencoder_model_ben_32 = keras.models.load_model(model_ben_32_path)"
      ],
      "metadata": {
        "id": "JzdIBH-TjT2L"
      },
      "execution_count": null,
      "outputs": []
    },
    {
      "cell_type": "markdown",
      "source": [
        "## Ładowanie TFRecords"
      ],
      "metadata": {
        "id": "c9DdwxdVjXim"
      }
    },
    {
      "cell_type": "code",
      "source": [
        "dset_train_ben = tfrecord_2_img_img_dataset(tfrecord_path_train_ben, batch_size, patch_size, num_channels_input, num_channels_target, num_repeats = 1)\n",
        "dset_test_ben = tfrecord_2_img_img_dataset(tfrecord_path_test_ben, batch_size, patch_size, num_channels_input, num_channels_target, num_repeats = 1)\n",
        "\n",
        "dset_train_mal = tfrecord_2_img_img_dataset(tfrecord_path_train_mal, batch_size, patch_size, num_channels_input, num_channels_target, num_repeats = 1)\n",
        "dset_test_mal = tfrecord_2_img_img_dataset(tfrecord_path_test_mal, batch_size, patch_size, num_channels_input, num_channels_target, num_repeats = 1)"
      ],
      "metadata": {
        "id": "QjkBL5DrjUTQ"
      },
      "execution_count": null,
      "outputs": []
    },
    {
      "cell_type": "markdown",
      "source": [
        "# Generacja cech autoenkodera"
      ],
      "metadata": {
        "id": "OT5uL_3QtBQJ"
      }
    },
    {
      "cell_type": "code",
      "source": [
        "feature_extractor_mal_8 = keras.Model(\n",
        "    inputs=autoencoder_model_mal_8.inputs,\n",
        "    outputs=autoencoder_model_mal_8.get_layer(index=9).output,\n",
        ")\n",
        "\n",
        "feature_extractor_mal_16 = keras.Model(\n",
        "    inputs=autoencoder_model_mal_16.inputs,\n",
        "    outputs=autoencoder_model_mal_16.get_layer(index=9).output,\n",
        ")\n",
        "\n",
        "feature_extractor_mal_32 = keras.Model(\n",
        "    inputs=autoencoder_model_mal_32.inputs,\n",
        "    outputs=autoencoder_model_mal_32.get_layer(index=9).output,\n",
        ")\n",
        "\n",
        "feature_extractor_ben_8 = keras.Model(\n",
        "    inputs=autoencoder_model_ben_8.inputs,\n",
        "    outputs=autoencoder_model_ben_8.get_layer(index=9).output,\n",
        ")\n",
        "\n",
        "feature_extractor_ben_16 = keras.Model(\n",
        "    inputs=autoencoder_model_ben_16.inputs,\n",
        "    outputs=autoencoder_model_ben_16.get_layer(index=9).output,\n",
        ")\n",
        "\n",
        "feature_extractor_ben_32 = keras.Model(\n",
        "    inputs=autoencoder_model_ben_32.inputs,\n",
        "    outputs=autoencoder_model_ben_32.get_layer(index=9).output,\n",
        ")"
      ],
      "metadata": {
        "id": "bb-pdrTTtAmI"
      },
      "execution_count": null,
      "outputs": []
    },
    {
      "cell_type": "code",
      "source": [
        "if generate_features_mal:\n",
        "  feature_train_mal_8_mal = feature_extractor_mal_8.predict(dset_train_mal)\n",
        "  feature_train_mal_8_mal = feature_train_mal_8_mal.reshape(feature_train_mal_8_mal.shape[0], -1)\n",
        "  with open(pickle_path_features_train_mal_8_mal, 'wb') as handle:\n",
        "      pickle.dump(feature_train_mal_8_mal, handle)\n",
        "\n",
        "  feature_train_mal_8_ben = feature_extractor_mal_8.predict(dset_train_ben)\n",
        "  feature_train_mal_8_ben = feature_train_mal_8_ben.reshape(feature_train_mal_8_ben.shape[0], -1)\n",
        "  with open(pickle_path_features_train_mal_8_ben, 'wb') as handle:\n",
        "      pickle.dump(feature_train_mal_8_ben, handle)\n",
        "\n",
        "  feature_train_mal_16_mal = feature_extractor_mal_16.predict(dset_train_mal)\n",
        "  feature_train_mal_16_mal = feature_train_mal_16_mal.reshape(feature_train_mal_16_mal.shape[0], -1)\n",
        "  with open(pickle_path_features_train_mal_16_mal, 'wb') as handle:\n",
        "      pickle.dump(feature_train_mal_16_mal, handle)\n",
        "\n",
        "  feature_train_mal_16_ben = feature_extractor_mal_16.predict(dset_train_ben)\n",
        "  feature_train_mal_16_ben = feature_train_mal_16_ben.reshape(feature_train_mal_16_ben.shape[0], -1)\n",
        "  with open(pickle_path_features_train_mal_16_ben, 'wb') as handle:\n",
        "      pickle.dump(feature_train_mal_16_ben, handle)\n",
        "\n",
        "  feature_train_mal_32_mal = feature_extractor_mal_32.predict(dset_train_mal)\n",
        "  feature_train_mal_32_mal = feature_train_mal_32_mal.reshape(feature_train_mal_32_mal.shape[0], -1)\n",
        "  with open(pickle_path_features_train_mal_32_mal, 'wb') as handle:\n",
        "      pickle.dump(feature_train_mal_32_mal, handle)\n",
        "\n",
        "  feature_train_mal_32_ben = feature_extractor_mal_32.predict(dset_train_ben)\n",
        "  feature_train_mal_32_ben = feature_train_mal_32_ben.reshape(feature_train_mal_32_ben.shape[0], -1)\n",
        "  with open(pickle_path_features_train_mal_32_ben, 'wb') as handle:\n",
        "      pickle.dump(feature_train_mal_32_ben, handle)"
      ],
      "metadata": {
        "id": "cAqSWW1buRVK"
      },
      "execution_count": null,
      "outputs": []
    },
    {
      "cell_type": "code",
      "source": [
        "if generate_features_mal:\n",
        "  feature_test_mal_8_mal = feature_extractor_mal_8.predict(dset_test_mal)\n",
        "  feature_test_mal_8_mal = feature_test_mal_8_mal.reshape(feature_test_mal_8_mal.shape[0], -1)\n",
        "  with open(pickle_path_features_test_mal_8_mal, 'wb') as handle:\n",
        "      pickle.dump(feature_test_mal_8_mal, handle)\n",
        "\n",
        "  feature_test_mal_8_ben = feature_extractor_mal_8.predict(dset_test_ben)\n",
        "  feature_test_mal_8_ben = feature_test_mal_8_ben.reshape(feature_test_mal_8_ben.shape[0], -1)\n",
        "  with open(pickle_path_features_test_mal_8_ben, 'wb') as handle:\n",
        "      pickle.dump(feature_test_mal_8_ben, handle)\n",
        "\n",
        "  feature_test_mal_16_mal = feature_extractor_mal_16.predict(dset_test_mal)\n",
        "  feature_test_mal_16_mal = feature_test_mal_16_mal.reshape(feature_test_mal_16_mal.shape[0], -1)\n",
        "  with open(pickle_path_features_test_mal_16_mal, 'wb') as handle:\n",
        "      pickle.dump(feature_test_mal_16_mal, handle)\n",
        "\n",
        "  feature_test_mal_16_ben = feature_extractor_mal_16.predict(dset_test_ben)\n",
        "  feature_test_mal_16_ben = feature_test_mal_16_ben.reshape(feature_test_mal_16_ben.shape[0], -1)\n",
        "  with open(pickle_path_features_test_mal_16_ben, 'wb') as handle:\n",
        "      pickle.dump(feature_test_mal_16_ben, handle)\n",
        "\n",
        "  feature_test_mal_32_mal = feature_extractor_mal_32.predict(dset_test_mal)\n",
        "  feature_test_mal_32_mal = feature_test_mal_32_mal.reshape(feature_test_mal_32_mal.shape[0], -1)\n",
        "  with open(pickle_path_features_test_mal_32_mal, 'wb') as handle:\n",
        "      pickle.dump(feature_test_mal_32_mal, handle)\n",
        "\n",
        "  feature_test_mal_32_ben = feature_extractor_mal_32.predict(dset_test_ben)\n",
        "  feature_test_mal_32_ben = feature_test_mal_32_ben.reshape(feature_test_mal_32_ben.shape[0], -1)\n",
        "  with open(pickle_path_features_test_mal_32_ben, 'wb') as handle:\n",
        "      pickle.dump(feature_test_mal_32_ben, handle)"
      ],
      "metadata": {
        "id": "VlRSf1squt3h"
      },
      "execution_count": null,
      "outputs": []
    },
    {
      "cell_type": "code",
      "source": [
        "if generate_features_ben:\n",
        "  feature_train_ben_8_mal = feature_extractor_ben_8.predict(dset_train_mal)\n",
        "  feature_train_ben_8_mal = feature_train_ben_8_mal.reshape(feature_train_ben_8_mal.shape[0], -1)\n",
        "  with open(pickle_path_features_train_ben_8_mal, 'wb') as handle:\n",
        "      pickle.dump(feature_train_ben_8_mal, handle)\n",
        "\n",
        "  feature_train_ben_8_ben = feature_extractor_ben_8.predict(dset_train_ben)\n",
        "  feature_train_ben_8_ben = feature_train_ben_8_ben.reshape(feature_train_ben_8_ben.shape[0], -1)\n",
        "  with open(pickle_path_features_train_ben_8_ben, 'wb') as handle:\n",
        "      pickle.dump(feature_train_ben_8_ben, handle)\n",
        "\n",
        "  feature_train_ben_16_mal = feature_extractor_ben_16.predict(dset_train_mal)\n",
        "  feature_train_ben_16_mal = feature_train_ben_16_mal.reshape(feature_train_ben_16_mal.shape[0], -1)\n",
        "  with open(pickle_path_features_train_ben_16_mal, 'wb') as handle:\n",
        "      pickle.dump(feature_train_ben_16_mal, handle)\n",
        "\n",
        "  feature_train_ben_16_ben = feature_extractor_ben_16.predict(dset_train_ben)\n",
        "  feature_train_ben_16_ben = feature_train_ben_16_ben.reshape(feature_train_ben_16_ben.shape[0], -1)\n",
        "  with open(pickle_path_features_train_ben_16_ben, 'wb') as handle:\n",
        "      pickle.dump(feature_train_ben_16_ben, handle)\n",
        "\n",
        "  feature_train_ben_32_mal = feature_extractor_ben_32.predict(dset_train_mal)\n",
        "  feature_train_ben_32_mal = feature_train_ben_32_mal.reshape(feature_train_ben_32_mal.shape[0], -1)\n",
        "  with open(pickle_path_features_train_ben_32_mal, 'wb') as handle:\n",
        "      pickle.dump(feature_train_ben_32_mal, handle)\n",
        "\n",
        "  feature_train_ben_32_ben = feature_extractor_ben_32.predict(dset_train_ben)\n",
        "  feature_train_ben_32_ben = feature_train_ben_32_ben.reshape(feature_train_ben_32_ben.shape[0], -1)\n",
        "  with open(pickle_path_features_train_ben_32_ben, 'wb') as handle:\n",
        "      pickle.dump(feature_train_ben_32_ben, handle)"
      ],
      "metadata": {
        "id": "3V5H-Kj_wUHv"
      },
      "execution_count": null,
      "outputs": []
    },
    {
      "cell_type": "code",
      "source": [
        "if generate_features_ben:\n",
        "  feature_test_ben_8_mal = feature_extractor_ben_8.predict(dset_test_mal)\n",
        "  feature_test_ben_8_mal = feature_test_ben_8_mal.reshape(feature_test_ben_8_mal.shape[0], -1)\n",
        "  with open(pickle_path_features_test_ben_8_mal, 'wb') as handle:\n",
        "      pickle.dump(feature_test_ben_8_mal, handle)\n",
        "\n",
        "  feature_test_ben_8_ben = feature_extractor_ben_8.predict(dset_test_ben)\n",
        "  feature_test_ben_8_ben = feature_test_ben_8_ben.reshape(feature_test_ben_8_ben.shape[0], -1)\n",
        "  with open(pickle_path_features_test_ben_8_ben, 'wb') as handle:\n",
        "      pickle.dump(feature_test_ben_8_ben, handle)\n",
        "\n",
        "  feature_test_ben_16_mal = feature_extractor_ben_16.predict(dset_test_mal)\n",
        "  feature_test_ben_16_mal = feature_test_ben_16_mal.reshape(feature_test_ben_16_mal.shape[0], -1)\n",
        "  with open(pickle_path_features_test_ben_16_mal, 'wb') as handle:\n",
        "      pickle.dump(feature_test_ben_16_mal, handle)\n",
        "\n",
        "  feature_test_ben_16_ben = feature_extractor_ben_16.predict(dset_test_ben)\n",
        "  feature_test_ben_16_ben = feature_test_ben_16_ben.reshape(feature_test_ben_16_ben.shape[0], -1)\n",
        "  with open(pickle_path_features_test_ben_16_ben, 'wb') as handle:\n",
        "      pickle.dump(feature_test_ben_16_ben, handle)\n",
        "\n",
        "  feature_test_ben_32_mal = feature_extractor_ben_32.predict(dset_test_mal)\n",
        "  feature_test_ben_32_mal = feature_test_ben_32_mal.reshape(feature_test_ben_32_mal.shape[0], -1)\n",
        "  with open(pickle_path_features_test_ben_32_mal, 'wb') as handle:\n",
        "      pickle.dump(feature_test_ben_32_mal, handle)\n",
        "\n",
        "  feature_test_ben_32_ben = feature_extractor_ben_32.predict(dset_test_ben)\n",
        "  feature_test_ben_32_ben = feature_test_ben_32_ben.reshape(feature_test_ben_32_ben.shape[0], -1)\n",
        "  with open(pickle_path_features_test_ben_32_ben, 'wb') as handle:\n",
        "      pickle.dump(feature_test_ben_32_ben, handle)"
      ],
      "metadata": {
        "id": "C7B2AT30wnmN"
      },
      "execution_count": null,
      "outputs": []
    }
  ]
}